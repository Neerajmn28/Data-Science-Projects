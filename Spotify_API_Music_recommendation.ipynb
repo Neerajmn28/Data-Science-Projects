{
  "nbformat": 4,
  "nbformat_minor": 0,
  "metadata": {
    "colab": {
      "provenance": [],
      "authorship_tag": "ABX9TyOiiYQ1Lt/TCWnxDHZ1sC6k",
      "include_colab_link": true
    },
    "kernelspec": {
      "name": "python3",
      "display_name": "Python 3"
    },
    "language_info": {
      "name": "python"
    }
  },
  "cells": [
    {
      "cell_type": "markdown",
      "metadata": {
        "id": "view-in-github",
        "colab_type": "text"
      },
      "source": [
        "<a href=\"https://colab.research.google.com/github/Neerajmn28/Data-Science-Projects/blob/main/Spotify_API_Music_recommendation.ipynb\" target=\"_parent\"><img src=\"https://colab.research.google.com/assets/colab-badge.svg\" alt=\"Open In Colab\"/></a>"
      ]
    },
    {
      "cell_type": "code",
      "source": [
        "pip install spotipy"
      ],
      "metadata": {
        "colab": {
          "base_uri": "https://localhost:8080/"
        },
        "id": "Daf1H945NWuk",
        "outputId": "34496cfd-a6cd-4fe8-a0fa-86bf6a0d8922"
      },
      "execution_count": null,
      "outputs": [
        {
          "output_type": "stream",
          "name": "stdout",
          "text": [
            "Requirement already satisfied: spotipy in /usr/local/lib/python3.10/dist-packages (2.23.0)\n",
            "Requirement already satisfied: redis>=3.5.3 in /usr/local/lib/python3.10/dist-packages (from spotipy) (5.0.3)\n",
            "Requirement already satisfied: requests>=2.25.0 in /usr/local/lib/python3.10/dist-packages (from spotipy) (2.31.0)\n",
            "Requirement already satisfied: six>=1.15.0 in /usr/local/lib/python3.10/dist-packages (from spotipy) (1.16.0)\n",
            "Requirement already satisfied: urllib3>=1.26.0 in /usr/local/lib/python3.10/dist-packages (from spotipy) (2.0.7)\n",
            "Requirement already satisfied: async-timeout>=4.0.3 in /usr/local/lib/python3.10/dist-packages (from redis>=3.5.3->spotipy) (4.0.3)\n",
            "Requirement already satisfied: charset-normalizer<4,>=2 in /usr/local/lib/python3.10/dist-packages (from requests>=2.25.0->spotipy) (3.3.2)\n",
            "Requirement already satisfied: idna<4,>=2.5 in /usr/local/lib/python3.10/dist-packages (from requests>=2.25.0->spotipy) (3.6)\n",
            "Requirement already satisfied: certifi>=2017.4.17 in /usr/local/lib/python3.10/dist-packages (from requests>=2.25.0->spotipy) (2024.2.2)\n"
          ]
        }
      ]
    },
    {
      "cell_type": "markdown",
      "source": [
        "#Project Description:\n",
        "The Spotify Music Recommendation System project aims to develop a personalized recommendation system for users based on their listening habits and preferences. This project utilizes the Spotify API to access user data, including listening history, favorite tracks, and playlists, to generate tailored music recommendations."
      ],
      "metadata": {
        "id": "57qCkPV4tzbK"
      }
    },
    {
      "cell_type": "markdown",
      "source": [
        "Features and Components:\n",
        "\n",
        "User Authentication: Implement user authentication using the Spotify API to access user data securely.\n",
        "\n",
        "Data Collection: Retrieve user data such as listening history, favorite tracks, playlists, and user profile information from the Spotify API.\n",
        "\n",
        "Data Preprocessing: Clean and preprocess the retrieved data to extract relevant features for recommendation.\n",
        "\n",
        "Content-Based Filtering: Utilize content-based filtering techniques to recommend songs based on user preferences, such as genre, artist, tempo, and mood.\n",
        "\n",
        "Collaborative Filtering: Implement collaborative filtering algorithms to recommend songs based on user similarity and preferences of similar users.\n",
        "\n",
        "Hybrid Recommendation: Combine content-based and collaborative filtering techniques to provide more accurate and diverse music recommendations."
      ],
      "metadata": {
        "id": "Y8mwbQjVt__m"
      }
    },
    {
      "cell_type": "code",
      "source": [
        "import requests\n",
        "import base64\n",
        "import pandas as pd\n",
        "import spotipy\n",
        "from spotipy.oauth2 import SpotifyOAuth\n",
        "from sklearn.model_selection import train_test_split\n",
        "from sklearn.preprocessing import MinMaxScaler\n",
        "from datetime import datetime\n",
        "from sklearn.metrics.pairwise import cosine_similarity"
      ],
      "metadata": {
        "id": "75KaVGw8QYaK"
      },
      "execution_count": null,
      "outputs": []
    },
    {
      "cell_type": "code",
      "source": [
        "CLIENT_ID = 'c0f35e02491640edb0da214fc91d854b'\n",
        "CLIENT_SECRET = 'b1d1ed5543bd47938380fbf58d3ff882'\n",
        "\n",
        "# Base64 encode the client ID and clu=ient secret\n",
        "client_credentials = f'{CLIENT_ID}:{CLIENT_SECRET}'\n",
        "client_credentials_base64 = base64.b64encode(client_credentials.encode())\n",
        "\n",
        "# Request the access token\n",
        "token_url = 'https://accounts.spotify.com/api/token'\n",
        "headers = {'Authorization': f'Basic {client_credentials_base64.decode()}'}\n",
        "\n",
        "data = {'grant_type': 'client_credentials'}\n",
        "response =  requests.post(token_url, data = data, headers = headers)\n",
        "\n",
        "if response.status_code == 200:\n",
        "  access_token = response.json()['access_token']\n",
        "  print('Access token obtained successfully.')\n",
        "else:\n",
        "  print('Error obtaining access token.')\n",
        "  exit()"
      ],
      "metadata": {
        "colab": {
          "base_uri": "https://localhost:8080/"
        },
        "id": "tUfa2o-G5vHA",
        "outputId": "8de2aac4-3908-4a20-b97c-bf783c2d9ea7"
      },
      "execution_count": null,
      "outputs": [
        {
          "output_type": "stream",
          "name": "stdout",
          "text": [
            "Access token obtained successfully.\n"
          ]
        }
      ]
    },
    {
      "cell_type": "code",
      "source": [
        "def get_trending_playlist_data(playlist_id, access_token):\n",
        "    import spotipy\n",
        "    import pandas as pd\n",
        "\n",
        "    # Set up Spotipy with the access token\n",
        "    sp = spotipy.Spotify(auth=access_token)\n",
        "\n",
        "    # Get the tracks from the playlist\n",
        "    playlist_tracks = sp.playlist_tracks(playlist_id, fields='items(track(id, name, artists, album(id, name, images)))')\n",
        "\n",
        "    # Extract relevant information and store in a list of dictionaries\n",
        "    music_data = []\n",
        "    for track_info in playlist_tracks['items']:\n",
        "        track = track_info['track']\n",
        "        track_name = track['name']\n",
        "        artists = ', '.join([artist['name'] for artist in track['artists']])\n",
        "        album_name = track['album']['name']\n",
        "        album_id = track['album']['id']\n",
        "        track_id = track['id']\n",
        "\n",
        "        # Get album images\n",
        "        album_images = track['album']['images']\n",
        "\n",
        "        # Get audio features for the track\n",
        "        audio_features = sp.audio_features(track_id)[0] if track_id != 'Not available' else None\n",
        "\n",
        "        # Get release date of the album\n",
        "        try:\n",
        "            album_info = sp.album(album_id) if album_id != 'Not available' else None\n",
        "            release_date = album_info['release_date'] if album_info else None\n",
        "        except:\n",
        "            release_date = None\n",
        "\n",
        "        # Get popularity of the track\n",
        "        try:\n",
        "            track_info = sp.track(track_id) if track_id != 'Not available' else None\n",
        "            popularity = track_info['popularity'] if track_info else None\n",
        "        except:\n",
        "            popularity = None\n",
        "\n",
        "        # Add additional track information to the track data\n",
        "        track_data = {\n",
        "            'Track Name': track_name,\n",
        "            'Artists': artists,\n",
        "            'Album Name': album_name,\n",
        "            'Album ID': album_id,\n",
        "            'Track ID': track_id,\n",
        "            'Popularity': popularity,\n",
        "            'Release Date': release_date,\n",
        "            'Album Images': album_images,\n",
        "            'Duration (ms)': audio_features['duration_ms'] if audio_features else None,\n",
        "            'Explicit': track_info.get('explicit', None),\n",
        "            'External URLs': track_info.get('external_urls', {}).get('spotify', None),\n",
        "            'Danceability': audio_features['danceability'] if audio_features else None,\n",
        "            'Energy': audio_features['energy'] if audio_features else None,\n",
        "            'Key': audio_features['key'] if audio_features else None,\n",
        "            'Loudness': audio_features['loudness'] if audio_features else None,\n",
        "            'Mode': audio_features['mode'] if audio_features else None,\n",
        "            'Speechiness': audio_features['speechiness'] if audio_features else None,\n",
        "            'Acousticness': audio_features['acousticness'] if audio_features else None,\n",
        "            'Instrumentalness': audio_features['instrumentalness'] if audio_features else None,\n",
        "            'Liveness': audio_features['liveness'] if audio_features else None,\n",
        "            'Valence': audio_features['valence'] if audio_features else None,\n",
        "            'Tempo': audio_features['tempo'] if audio_features else None,\n",
        "            # Add more attributes as needed\n",
        "        }\n",
        "\n",
        "        music_data.append(track_data)\n",
        "\n",
        "    # Create a pandas DataFrame from the list of dictionaries\n",
        "    df = pd.DataFrame(music_data)\n",
        "\n",
        "    return df"
      ],
      "metadata": {
        "id": "hrJdt0ljinLE"
      },
      "execution_count": null,
      "outputs": []
    },
    {
      "cell_type": "code",
      "source": [
        "playlist_id = 'https://open.spotify.com/playlist/37i9dQZF1EIX0E845alOim?si=dd20e938cac249b8'\n",
        "\n",
        "# Call the function to get the music data from the playlist and store it in a DataFrame\n",
        "music_df = get_trending_playlist_data(playlist_id, access_token)\n",
        "\n",
        "# Display the DataFrame\n",
        "print(music_df)"
      ],
      "metadata": {
        "id": "o5FvY0qA8ZAF",
        "colab": {
          "base_uri": "https://localhost:8080/"
        },
        "outputId": "495dd7d8-f48c-41e4-a8a6-ca84c12b220f"
      },
      "execution_count": null,
      "outputs": [
        {
          "output_type": "stream",
          "name": "stdout",
          "text": [
            "                                           Track Name  \\\n",
            "0                            Yun Zindagi Ki Raah Mein   \n",
            "1                    Na Kajare Ki Dhar (From \"Mohra\")   \n",
            "2                         Pyar Bhare Do Sharmile Nain   \n",
            "3                                              Saadgi   \n",
            "4                            Is Dil Pe Naaz Tha Mujhe   \n",
            "5       Chupke Chupke Raat Din Aansoon Bahanayaad Hai   \n",
            "6                  Mujhe Tum Nazar Se Gira To Rahe Ho   \n",
            "7                             Duniya Haseenon Ka Mela   \n",
            "8                                     Ranjish Hi Sahi   \n",
            "9                          Woh Nahi Mera Magar (Male)   \n",
            "10                       Kyun Sharabi Sharab Pita Hai   \n",
            "11                                       Pyar Ke Liye   \n",
            "12      Rafta Rafta Woh Meri Hasti Ka (From \"Zeenat\")   \n",
            "13          Chhupana Bhi Nahin Aata (From \"Baazigar\")   \n",
            "14                                 Main Hosh Mein Tha   \n",
            "15                           Hangama Hai Kiyon Barbad   \n",
            "16                           Shola Tha Jal Bujha Hoon   \n",
            "17                         Humko Kisike Gham Ne Maara   \n",
            "18                             Gulon Mein Rang Bharey   \n",
            "19                       Rang Barse Bheege Chunarwali   \n",
            "20                           Duniya Kisi Ke Pyar Mein   \n",
            "21                    Yeh Kaun Aa Gayi Dilruba Mehaki   \n",
            "22                       Ye Dhuaan Kahan Se Uthta Hai   \n",
            "23               Jeeye to Jeeye Kaise (From \"Saajan\")   \n",
            "24                                  Main Teri Yaad Ko   \n",
            "25                            Ajnabi Mujhko Itna Bata   \n",
            "26                          Kya Toota Hai Andar Andar   \n",
            "27      Pyar Hamen Kis Mod Pe - From \"Satte Pe Satta\"   \n",
            "28  Kyun Poochte Ho Kya Tum Se Kahoon (From \"Bahis...   \n",
            "29                  Tere Dar Par Sanam - Male Version   \n",
            "30                                 Tumhein Dil Hi Dil   \n",
            "31                                 Mujhse Mohabbat Ka   \n",
            "32                                Ek Bus Too Hi Nahin   \n",
            "33             Humen To Ab Bhi Woh Gujara Zamana Yaad   \n",
            "34                           Pyar Bhare Do Sharmeeley   \n",
            "35                                             Ahista   \n",
            "36                      Jab Koi Pyar Se Bulaye Tum Ko   \n",
            "37                                       Bajrang Baan   \n",
            "38  Tu Meri Zindagi Hai Tu Meri Ha (From \"Mohabbat...   \n",
            "39  Kabhie Kisi Ko Muqammal Jahan - Ahista Ahista ...   \n",
            "40                                  Ek Sitam Aur Meri   \n",
            "41                               Jab Kisiki Taraf Dil   \n",
            "42      Zindagi Mein To Sabhi Pyar Kiy (From \"Azmat\")   \n",
            "43           Main Zindagi Ka Saath Nibhata Chala Gaya   \n",
            "44                           Baat Karni Mujhe Mushkil   \n",
            "45                               Tune Deewana Banaaya   \n",
            "46                              TO NE DIKHA HAI KABHI   \n",
            "47                              Dil Mera Churaya Kyun   \n",
            "48                       Zindagi Mein To Sabhi - Live   \n",
            "49                                  Lagi Aaj Sawan Ki   \n",
            "\n",
            "                                              Artists  \\\n",
            "0                                        Mehdi Hassan   \n",
            "1                        Sadhana Sargam, Pankaj Udhas   \n",
            "2                                        Mehdi Hassan   \n",
            "3                                         Zeeshan Ali   \n",
            "4                                        Mehdi Hassan   \n",
            "5                                          Ghulam Ali   \n",
            "6                                        Mehdi Hassan   \n",
            "7                            Udit Narayan, Sunita Rao   \n",
            "8                                        Mehdi Hassan   \n",
            "9                                          Ghulam Ali   \n",
            "10                                       Mehdi Hassan   \n",
            "11                                        Jatin-Lalit   \n",
            "12                                       Mehdi Hassan   \n",
            "13                                       Pankaj Udhas   \n",
            "14                                       Mehdi Hassan   \n",
            "15                                         Ghulam Ali   \n",
            "16                                       Mehdi Hassan   \n",
            "17                                         Ghulam Ali   \n",
            "18                                       Mehdi Hassan   \n",
            "19                                   Amitabh Bachchan   \n",
            "20                                       Mehdi Hassan   \n",
            "21                                         Ghulam Ali   \n",
            "22                                       Mehdi Hassan   \n",
            "23                                       Pankaj Udhas   \n",
            "24                                       Mehdi Hassan   \n",
            "25             Jatin-Lalit, Asha Bhosle, Udit Narayan   \n",
            "26                                       Mehdi Hassan   \n",
            "27  Kishore Kumar, R. D. Burman, Bhupinder Singh, ...   \n",
            "28                                       Mehdi Hassan   \n",
            "29                                         Kumar Sanu   \n",
            "30                                       Mehdi Hassan   \n",
            "31                            Kumar Sanu, Alka Yagnik   \n",
            "32                                       Mehdi Hassan   \n",
            "33                                         Ghulam Ali   \n",
            "34                                       Mehdi Hassan   \n",
            "35                                       Pankaj Udhas   \n",
            "36                                       Mehdi Hassan   \n",
            "37                                          Hariharan   \n",
            "38                                       Mehdi Hassan   \n",
            "39                                    Bhupinder Singh   \n",
            "40                                       Mehdi Hassan   \n",
            "41                            Jatin-Lalit, Kumar Sanu   \n",
            "42                                       Mehdi Hassan   \n",
            "43                                      Mohammed Rafi   \n",
            "44                                       Mehdi Hassan   \n",
            "45                                      Abida Parveen   \n",
            "46                                       Mehdi Hassan   \n",
            "47                              Kumar Sanu, Anu Malik   \n",
            "48                                       Mehdi Hassan   \n",
            "49                             Suresh Wadkar, Anupama   \n",
            "\n",
            "                                           Album Name                Album ID  \\\n",
            "0              25 Everlasting Ghazals By Mehdi Hassan  4o0t32M7pq69MgYcddWw28   \n",
            "1                   Melodious Voice of Sadhana Sargam  7ID29f8hV3J5IOFmugRQQo   \n",
            "2              25 Everlasting Ghazals By Mehdi Hassan  4o0t32M7pq69MgYcddWw28   \n",
            "3                                              Saadgi  4nQOjxICR7sBomW0ZJwjqN   \n",
            "4              25 Everlasting Ghazals By Mehdi Hassan  4o0t32M7pq69MgYcddWw28   \n",
            "5               Chupke Chupke Raat Din and Other Hits  6FYay6dqiiOpxk0gVbBWpl   \n",
            "6                   The Definitive Collection, Vol. 1  6rIuO7Gg2iynYy7urWgOhy   \n",
            "7           Gupt (Original Motion Picture Soundtrack)  1LTaahcsWeWpBGnD2iWGWa   \n",
            "8              25 Everlasting Ghazals By Mehdi Hassan  4o0t32M7pq69MgYcddWw28   \n",
            "9                              Ghulam Ali Fantastic 5  2R5vh8gBTTZw1PhXFBgtZp   \n",
            "10             25 Everlasting Ghazals By Mehdi Hassan  4o0t32M7pq69MgYcddWw28   \n",
            "11  Dil Kya Kare (Original Motion Picture Soundtrack)  0Znd5F1rGGcrj6drlTmff1   \n",
            "12                             Mehdi Hassan Film Hits  4B5FT3KOoTIkf2B32L9dkk   \n",
            "13      Bollywood & Ghazal Collection of Pankaj Udhas  5Mz7uZt7yAnIPpPebxpEE0   \n",
            "14                               Mehdi Hassan Ghazals  3Ih82Pk9uCpLuEAmynLpkB   \n",
            "15    Dil Mein Ek Leher - Ghulam Ali The Gazal Mastro  1f1ZODqT2ovZki5OlxgJ5W   \n",
            "16   Mohabbat Karne Wale - Unforgettable Mehdi Hassan  1w9yrlI0bQWNlSTjDfhnJD   \n",
            "17                                  Enriching Ghazals  0reghrVnpLYtzSN8h9NstO   \n",
            "18             25 Everlasting Ghazals By Mehdi Hassan  4o0t32M7pq69MgYcddWw28   \n",
            "19       Silsila (Original Motion Picture Soundtrack)  3QyzsjSnEUqIcCuUrXYYuv   \n",
            "20                      Golden Greats Of Mehdi Hassan  5kZPQXY1qFWCZrlGLApOKq   \n",
            "21                                   Tere Shahar Main  1UA96N2l11cfN4hLZ0RjTx   \n",
            "22             25 Everlasting Ghazals By Mehdi Hassan  4o0t32M7pq69MgYcddWw28   \n",
            "23      Bollywood & Ghazal Collection of Pankaj Udhas  5Mz7uZt7yAnIPpPebxpEE0   \n",
            "24                                             Shahad  0YCKkEc1hyPL7qCtpYrCNa   \n",
            "25  Pyaar To Hona Hi Tha (Original Motion Picture ...  6pEHb1MG9U5UZJK0rQ2OUX   \n",
            "26                                         Kehna Usey  4NQXR9qhrrk4Rx7uj9eqrX   \n",
            "27                 Kishore Kumar Most Loved Hits 2023  72yLAK3kpS2mktXo69c16J   \n",
            "28                             Mehdi Hassan Film Hits  5NWa0g2Sh0fh9PiaDc0jeN   \n",
            "29  Phir Teri Kahani Yaad Aayee (Original Motion P...  2HcJ0Adf3w6NnsZYbFesjG   \n",
            "30                  The Definitive Collection, Vol. 1  6rIuO7Gg2iynYy7urWgOhy   \n",
            "31  Hum Hain Rahi Pyar Ke (Original Motion Picture...  63Y2RfrgCziZL6Jz8YCqV1   \n",
            "32                                         Kehna Usey  4NQXR9qhrrk4Rx7uj9eqrX   \n",
            "33                                   Tere Shahar Main  1UA96N2l11cfN4hLZ0RjTx   \n",
            "34                         Showcase Southasia, Vol. 3  4hxUM2qiLoAvSOM9tcAVhG   \n",
            "35          The Legend Forever - Pankaj Udhas - Vol.1  45ctARvK5Rph0MaAcCwJ8Z   \n",
            "36                  The Definitive Collection, Vol. 2  0SoMPjBAp7DMLXIgApqlXL   \n",
            "37             Shree Hanuman Chalisa (Hanuman Ashtak)  1JfMAw56ShwV21lxRrwGbu   \n",
            "38                             Mehdi Hassan Film Hits  4B5FT3KOoTIkf2B32L9dkk   \n",
            "39  Ahista Ahista (Original Motion Picture Soundtr...  2qhsdLwhgqSflnTYUUrRlM   \n",
            "40         The Legend Mehdi Hassan Ghazals From Films  53s9bLYn88bXLGHWoharYz   \n",
            "41  Pyaar To Hona Hi Tha (Original Motion Picture ...  6pEHb1MG9U5UZJK0rQ2OUX   \n",
            "42                             Mehdi Hassan Film Hits  4B5FT3KOoTIkf2B32L9dkk   \n",
            "43      Hum Dono (Original Motion Picture Soundtrack)  5j7tLPiLgd645zG6qc5oit   \n",
            "44                            Ghazals By Mehdi Hassan  2KfTrfRxwVioQxZAq9z2tL   \n",
            "45                             Abida Parveen, Vol. 12  5XtYoKuPN1qUJTkX1AhLka   \n",
            "46     MEHDI HASSAN & GHULAM ALI (MUSIC FOR THE SOUL)  62BpvH8WdegkAOXsru3jJe   \n",
            "47  Akele Hum Akele Tum (Original Motion Picture S...  1zwT18Vm7F5zPBNvRQp71F   \n",
            "48             Live in USA, Vol. 3 (Tujhe Chaahon Ga)  3HadPxsLza4NbGUGxv06bs   \n",
            "49       Chandni (Original Motion Picture Soundtrack)  0V3fAalHOjrakWGRwVHhft   \n",
            "\n",
            "                  Track ID  Popularity Release Date  \\\n",
            "0   4Y8zVmzA6f9gs1I215y33g          39   2012-01-13   \n",
            "1   4XL3S4cP3jqdBotKjxulS5          59   2016-07-01   \n",
            "2   4VLlkXBszresDZ8gc19xew          34   2012-01-13   \n",
            "3   3sJWoaPT8eE7YTPzpr6Ya9          49   2022-07-25   \n",
            "4   25VkJONJpEE1jFn5jdJfUh          33   2012-01-13   \n",
            "5   34VMY5oNAOWXFnC0pfwwhc          38   1992-12-01   \n",
            "6   3zszTKvI0ru0LzQ3lu99yO          53   2022-11-25   \n",
            "7   02bs4xUcI9ZtAA80P5k2FW          62   1997-07-04   \n",
            "8   1Ot6UNRGj2aYS3xtqw1YtA          46   2012-01-13   \n",
            "9   5D89anW7HUv01m8jLHQZ7s          42   2017-10-03   \n",
            "10  6s71MG7edHVAWuovB3CaUD          15   2012-01-13   \n",
            "11  2oBSn18iPMom9cY5dDVwQZ          62   1999-06-26   \n",
            "12  2CWKnKg2zzXI6wfsH2dTDE          52   2022-02-03   \n",
            "13  2oAy8P7WfjbZW0cWw6RnAG          61   2016-07-01   \n",
            "14  2em4mPw6quqqyCwS1yOM3X          36   1990-04-01   \n",
            "15  5DE0ceOgboD8TexJ2RAQI4          41   1994-01-01   \n",
            "16  0YiEIwDJgOIjcFXGE3Y2Mf           9   1996-01-01   \n",
            "17  5hZmZaExf8sG6wvoWpqs8m          30   2015-12-01   \n",
            "18  5SRZ2MMFN7WD626usnTOma          44   2012-01-13   \n",
            "19  4ctKPs1q73B2OQDhzNE1kz          39   1981-05-18   \n",
            "20  4UDsOiaMP4pLawOzlmeGKk          23   1990-01-01   \n",
            "21  6iiDERwnyLcHFBScBPhS6R          40   2021-09-22   \n",
            "22  3Zawa0Z9uxJ5oiFvGLk4nj          41   2012-01-13   \n",
            "23  6xkH51odPN6GVpMgth0lWL          47   2016-07-01   \n",
            "24  3FoMsUV3YRuLoQDdFZxVvN          38   2001-04-04   \n",
            "25  6ttvgWnBAt72SIojbcnlKn          61   2000-08-04   \n",
            "26  67kK8yaFy1iVAoXLdL4xf2          24   1984-05-06   \n",
            "27  1cVhKEIv0IlsZqXjkTutP5          44   2023-05-18   \n",
            "28  04PNuLq9jNwcdsoPgG1PQY          28         1970   \n",
            "29  4n5vaqluWQjCrKr4JLZIRh          60   1993-07-30   \n",
            "30  095RjXWEuAc79YqUybM2dy          23   2022-11-25   \n",
            "31  6swiB2EqcDcBS2lojpZlaA          61   1993-07-05   \n",
            "32  2YtAWHETT7pa47d84hF9fB          22   1984-05-06   \n",
            "33  49W2MxcTJ2km17XqnnDs11          39   2021-09-22   \n",
            "34  3yddAQF5nIBKloGwjf0hfu          12   2015-12-16   \n",
            "35  6vIII4miUMUjCYtluFwbnP          38   2012-01-01   \n",
            "36  6FG5kkIZZfvMdfdH6mdASL          27   2022-11-25   \n",
            "37  7iVA0k8Jde4078tDtQoKr3          60   1992-01-01   \n",
            "38  24n6z4zzz5cG7x10Pim4UZ          33   2022-02-03   \n",
            "39  5Q5jsvawDQ55Nn4rikW4zA          46   1981-01-01   \n",
            "40  42sEHZgHUghdsEQ81VMWb1          16   1990-01-01   \n",
            "41  38ql2maaz4VFexTGL8yIW3          60   2000-08-04   \n",
            "42  5qTsqqdNLTyQHwGsbTy2ca          26   2022-02-03   \n",
            "43  07Fwpys1NEj18b4LBoIeCy          43   1961-12-30   \n",
            "44  0o9kFPylzorzVb0rdXv8rW          14   1975-10-01   \n",
            "45  3tyCGdPiyphjxXj7xn4hbB          37         1990   \n",
            "46  46smoqTJ1vXQg8boSvMeuN          17   2002-03-01   \n",
            "47  4OvdhTOjq75CvPO6O7AWRw          60   1995-07-25   \n",
            "48  0jQySCRqYWtPEj0IEzrIpz          26   1994-01-01   \n",
            "49  12UeduMd5QBAc9RsR9Vk9o          40   1989-09-14   \n",
            "\n",
            "                                         Album Images  Duration (ms)  \\\n",
            "0   [{'height': 640, 'url': 'https://i.scdn.co/ima...         336798   \n",
            "1   [{'height': 640, 'url': 'https://i.scdn.co/ima...         324253   \n",
            "2   [{'height': 640, 'url': 'https://i.scdn.co/ima...         398395   \n",
            "3   [{'height': 640, 'url': 'https://i.scdn.co/ima...         210500   \n",
            "4   [{'height': 640, 'url': 'https://i.scdn.co/ima...         287270   \n",
            "5   [{'height': 640, 'url': 'https://i.scdn.co/ima...         469907   \n",
            "6   [{'height': 640, 'url': 'https://i.scdn.co/ima...         235173   \n",
            "7   [{'height': 640, 'url': 'https://i.scdn.co/ima...         393000   \n",
            "8   [{'height': 640, 'url': 'https://i.scdn.co/ima...         577255   \n",
            "9   [{'height': 640, 'url': 'https://i.scdn.co/ima...         378816   \n",
            "10  [{'height': 640, 'url': 'https://i.scdn.co/ima...         276063   \n",
            "11  [{'height': 640, 'url': 'https://i.scdn.co/ima...         305493   \n",
            "12  [{'height': 640, 'url': 'https://i.scdn.co/ima...         226147   \n",
            "13  [{'height': 640, 'url': 'https://i.scdn.co/ima...         322067   \n",
            "14  [{'height': 640, 'url': 'https://i.scdn.co/ima...         421680   \n",
            "15  [{'height': 640, 'url': 'https://i.scdn.co/ima...         516227   \n",
            "16  [{'height': 640, 'url': 'https://i.scdn.co/ima...         436724   \n",
            "17  [{'height': 640, 'url': 'https://i.scdn.co/ima...         438204   \n",
            "18  [{'height': 640, 'url': 'https://i.scdn.co/ima...         373683   \n",
            "19  [{'height': 640, 'url': 'https://i.scdn.co/ima...         366267   \n",
            "20  [{'height': 640, 'url': 'https://i.scdn.co/ima...         340640   \n",
            "21  [{'height': 640, 'url': 'https://i.scdn.co/ima...         333755   \n",
            "22  [{'height': 640, 'url': 'https://i.scdn.co/ima...         261382   \n",
            "23  [{'height': 640, 'url': 'https://i.scdn.co/ima...         209960   \n",
            "24  [{'height': 640, 'url': 'https://i.scdn.co/ima...         516667   \n",
            "25  [{'height': 640, 'url': 'https://i.scdn.co/ima...         373800   \n",
            "26  [{'height': 640, 'url': 'https://i.scdn.co/ima...         428025   \n",
            "27  [{'height': 640, 'url': 'https://i.scdn.co/ima...         393253   \n",
            "28  [{'height': 640, 'url': 'https://i.scdn.co/ima...         180067   \n",
            "29  [{'height': 640, 'url': 'https://i.scdn.co/ima...         368867   \n",
            "30  [{'height': 640, 'url': 'https://i.scdn.co/ima...         368520   \n",
            "31  [{'height': 640, 'url': 'https://i.scdn.co/ima...         311907   \n",
            "32  [{'height': 640, 'url': 'https://i.scdn.co/ima...         445005   \n",
            "33  [{'height': 640, 'url': 'https://i.scdn.co/ima...         357491   \n",
            "34  [{'height': 640, 'url': 'https://i.scdn.co/ima...         228160   \n",
            "35  [{'height': 640, 'url': 'https://i.scdn.co/ima...         433307   \n",
            "36  [{'height': 640, 'url': 'https://i.scdn.co/ima...         252253   \n",
            "37  [{'height': 640, 'url': 'https://i.scdn.co/ima...         465651   \n",
            "38  [{'height': 640, 'url': 'https://i.scdn.co/ima...         196347   \n",
            "39  [{'height': 640, 'url': 'https://i.scdn.co/ima...         319360   \n",
            "40  [{'height': 640, 'url': 'https://i.scdn.co/ima...         195493   \n",
            "41  [{'height': 640, 'url': 'https://i.scdn.co/ima...         414560   \n",
            "42  [{'height': 640, 'url': 'https://i.scdn.co/ima...         201907   \n",
            "43  [{'height': 640, 'url': 'https://i.scdn.co/ima...         230640   \n",
            "44  [{'height': 640, 'url': 'https://i.scdn.co/ima...         190307   \n",
            "45  [{'height': 640, 'url': 'https://i.scdn.co/ima...         321802   \n",
            "46  [{'height': 640, 'url': 'https://i.scdn.co/ima...         316997   \n",
            "47  [{'height': 640, 'url': 'https://i.scdn.co/ima...         282360   \n",
            "48  [{'height': 640, 'url': 'https://i.scdn.co/ima...         510501   \n",
            "49  [{'height': 640, 'url': 'https://i.scdn.co/ima...         215267   \n",
            "\n",
            "    Explicit  ... Energy  Key  Loudness  Mode  Speechiness  Acousticness  \\\n",
            "0      False  ...  0.361    1   -13.309     1       0.0385         0.851   \n",
            "1      False  ...  0.683    0    -8.428     0       0.0404         0.667   \n",
            "2      False  ...  0.412    7   -13.250     0       0.0384         0.721   \n",
            "3      False  ...  0.141   11   -12.397     1       0.0533         0.849   \n",
            "4      False  ...  0.320    8   -17.394     1       0.0655         0.942   \n",
            "5      False  ...  0.288   10   -16.153     0       0.0351         0.958   \n",
            "6      False  ...  0.359    8   -11.288     1       0.0372         0.971   \n",
            "7      False  ...  0.817    7    -8.476     0       0.0359         0.452   \n",
            "8      False  ...  0.528    7   -11.037     1       0.0430         0.894   \n",
            "9      False  ...  0.622    3    -7.717     1       0.0336         0.392   \n",
            "10     False  ...  0.412    5   -12.246     1       0.0346         0.788   \n",
            "11     False  ...  0.622    5    -8.431     1       0.0383         0.795   \n",
            "12     False  ...  0.661   10    -7.783     0       0.0310         0.860   \n",
            "13     False  ...  0.517    3   -11.817     1       0.0714         0.362   \n",
            "14     False  ...  0.342    7   -11.994     1       0.0287         0.920   \n",
            "15     False  ...  0.755    3    -6.312     0       0.0499         0.555   \n",
            "16     False  ...  0.749    1    -6.578     0       0.0423         0.248   \n",
            "17     False  ...  0.480    5   -11.934     0       0.0324         0.919   \n",
            "18     False  ...  0.502    0   -12.550     1       0.0383         0.458   \n",
            "19     False  ...  0.500    2   -12.391     1       0.2900         0.849   \n",
            "20     False  ...  0.328    1   -14.536     1       0.0332         0.959   \n",
            "21     False  ...  0.539    8    -9.840     0       0.0293         0.866   \n",
            "22     False  ...  0.426    6   -15.265     1       0.0509         0.866   \n",
            "23     False  ...  0.489    0   -11.968     1       0.0306         0.249   \n",
            "24     False  ...  0.485    1    -9.550     1       0.0317         0.482   \n",
            "25     False  ...  0.727    5    -4.532     0       0.0442         0.768   \n",
            "26     False  ...  0.509    5    -7.587     0       0.0332         0.835   \n",
            "27     False  ...  0.676    0    -5.914     0       0.0847         0.709   \n",
            "28     False  ...  0.218    5   -20.228     0       0.0332         0.929   \n",
            "29     False  ...  0.440    2   -16.345     1       0.0390         0.445   \n",
            "30     False  ...  0.386    8   -14.719     0       0.0390         0.903   \n",
            "31     False  ...  0.789    7    -4.138     0       0.0382         0.743   \n",
            "32     False  ...  0.554   11    -9.263     1       0.0437         0.866   \n",
            "33     False  ...  0.506   10   -11.053     0       0.0318         0.836   \n",
            "34     False  ...  0.457    8    -7.664     0       0.0348         0.968   \n",
            "35     False  ...  0.391    3    -9.007     1       0.0279         0.527   \n",
            "36     False  ...  0.485    1    -8.352     1       0.0285         0.942   \n",
            "37     False  ...  0.850    4    -3.572     1       0.0384         0.539   \n",
            "38     False  ...  0.348    8   -11.492     0       0.0301         0.934   \n",
            "39     False  ...  0.299    9   -13.432     1       0.0266         0.820   \n",
            "40     False  ...  0.258    5   -17.812     0       0.0304         0.857   \n",
            "41     False  ...  0.584    9    -6.431     1       0.0385         0.514   \n",
            "42     False  ...  0.448   10    -7.847     0       0.0357         0.963   \n",
            "43     False  ...  0.449    5    -9.413     1       0.0363         0.387   \n",
            "44     False  ...  0.268    8   -18.430     1       0.0413         0.990   \n",
            "45     False  ...  0.776    3    -5.050     0       0.0719         0.564   \n",
            "46     False  ...  0.548    1    -8.561     1       0.0268         0.574   \n",
            "47     False  ...  0.391    5   -14.142     1       0.0259         0.168   \n",
            "48     False  ...  0.526    7    -9.629     0       0.0800         0.901   \n",
            "49     False  ...  0.693    7    -7.410     0       0.0448         0.877   \n",
            "\n",
            "    Instrumentalness  Liveness  Valence    Tempo  \n",
            "0           0.260000    0.1110    0.563  104.063  \n",
            "1           0.000001    0.3620    0.672  145.281  \n",
            "2           0.000749    0.4820    0.255  145.804  \n",
            "3           0.000000    0.1090    0.369  128.768  \n",
            "4           0.857000    0.1390    0.684  107.449  \n",
            "5           0.453000    0.0817    0.720  131.731  \n",
            "6           0.000098    0.2180    0.740  120.130  \n",
            "7           0.001950    0.0852    0.883  107.980  \n",
            "8           0.113000    0.1140    0.267  133.409  \n",
            "9           0.000039    0.0632    0.443  128.020  \n",
            "10          0.000018    0.0891    0.604  107.057  \n",
            "11          0.000015    0.1050    0.725  143.834  \n",
            "12          0.000000    0.0868    0.682  103.674  \n",
            "13          0.000002    0.1290    0.646  157.333  \n",
            "14          0.013100    0.1370    0.359   84.202  \n",
            "15          0.000003    0.4110    0.546  112.812  \n",
            "16          0.000364    0.0802    0.544  139.228  \n",
            "17          0.015600    0.7680    0.771  100.761  \n",
            "18          0.000273    0.4810    0.378  140.627  \n",
            "19          0.000000    0.1000    0.596  120.444  \n",
            "20          0.542000    0.6660    0.372   92.772  \n",
            "21          0.005540    0.2760    0.717  105.435  \n",
            "22          0.849000    0.3180    0.526  138.993  \n",
            "23          0.000000    0.1560    0.682  128.731  \n",
            "24          0.409000    0.1260    0.435  103.886  \n",
            "25          0.000039    0.0713    0.621   98.230  \n",
            "26          0.047300    0.1520    0.530   78.619  \n",
            "27          0.000000    0.0774    0.674  104.479  \n",
            "28          0.003050    0.1230    0.588  102.247  \n",
            "29          0.000004    0.2410    0.665   82.454  \n",
            "30          0.000088    0.0840    0.740  118.429  \n",
            "31          0.000000    0.3430    0.862  139.206  \n",
            "32          0.001600    0.1970    0.605  133.192  \n",
            "33          0.043200    0.1520    0.648  104.761  \n",
            "34          0.001960    0.1720    0.519  171.013  \n",
            "35          0.000002    0.1450    0.395   88.005  \n",
            "36          0.215000    0.0984    0.561   93.875  \n",
            "37          0.000000    0.3440    0.803   90.504  \n",
            "38          0.024600    0.0694    0.444  137.349  \n",
            "39          0.000148    0.0908    0.487   97.855  \n",
            "40          0.000090    0.1900    0.723   95.383  \n",
            "41          0.000000    0.1090    0.438   79.146  \n",
            "42          0.000804    0.0988    0.500  172.787  \n",
            "43          0.000782    0.0580    0.853  132.135  \n",
            "44          0.866000    0.1140    0.262   69.057  \n",
            "45          0.005520    0.1130    0.900  151.503  \n",
            "46          0.000269    0.0384    0.532  128.395  \n",
            "47          0.000009    0.1880    0.684  109.692  \n",
            "48          0.013800    0.7400    0.354  142.475  \n",
            "49          0.000241    0.1460    0.351   93.885  \n",
            "\n",
            "[50 rows x 22 columns]\n"
          ]
        }
      ]
    },
    {
      "cell_type": "code",
      "source": [
        "music_df.isnull().sum()"
      ],
      "metadata": {
        "colab": {
          "base_uri": "https://localhost:8080/"
        },
        "id": "1jRoQ8nMgCE_",
        "outputId": "9e0664d9-2f66-4c67-d9ad-dd892bfcceaa"
      },
      "execution_count": null,
      "outputs": [
        {
          "output_type": "execute_result",
          "data": {
            "text/plain": [
              "Track Name          0\n",
              "Artists             0\n",
              "Album Name          0\n",
              "Album ID            0\n",
              "Track ID            0\n",
              "Popularity          0\n",
              "Release Date        0\n",
              "Album Images        0\n",
              "Duration (ms)       0\n",
              "Explicit            0\n",
              "External URLs       0\n",
              "Danceability        0\n",
              "Energy              0\n",
              "Key                 0\n",
              "Loudness            0\n",
              "Mode                0\n",
              "Speechiness         0\n",
              "Acousticness        0\n",
              "Instrumentalness    0\n",
              "Liveness            0\n",
              "Valence             0\n",
              "Tempo               0\n",
              "dtype: int64"
            ]
          },
          "metadata": {},
          "execution_count": 74
        }
      ]
    },
    {
      "cell_type": "code",
      "source": [
        "data = music_df"
      ],
      "metadata": {
        "id": "jGzVTNcbjjGg"
      },
      "execution_count": null,
      "outputs": []
    },
    {
      "cell_type": "markdown",
      "source": [
        "# Weighted Popularity Scores\n",
        "While providing music recommendations to users, it is important to recommend the latest releases. For this, we need to give more weight to the latest releases in the recommendations"
      ],
      "metadata": {
        "id": "KmBIU-cJqh06"
      }
    },
    {
      "cell_type": "code",
      "source": [
        "# Define a function for weighted popluarity scores based on release date\n",
        "def calculate_weighted_popularity(release_date):\n",
        "  release_date = datetime.strptime(release_date, '%Y-%m-%d')\n",
        "\n",
        "\n",
        "  # Calculate the time span between release date and today's date\n",
        "  time_span = datetime.now() - release_date\n",
        "\n",
        "  # Calculate the weighted popularity score based on time span\n",
        "  weight = 1/(time_span.days + 1)\n",
        "  return weight"
      ],
      "metadata": {
        "id": "POjQtLEFkrKg"
      },
      "execution_count": null,
      "outputs": []
    },
    {
      "cell_type": "markdown",
      "source": [
        "# Normalization"
      ],
      "metadata": {
        "id": "qtmfgh33svpL"
      }
    },
    {
      "cell_type": "code",
      "source": [
        "# Normalise the music features using Min-Max scaling\n",
        "scaler = MinMaxScaler()\n",
        "music_features = music_df[['Danceability','Energy','Key','Loudness','Mode','Speechiness','Acousticness','Instrumentalness','Liveness','Valence','Tempo']].values\n",
        "music_features_scaled = scaler.fit_transform(music_features)"
      ],
      "metadata": {
        "id": "2xa3kLm5reoN"
      },
      "execution_count": null,
      "outputs": []
    },
    {
      "cell_type": "markdown",
      "source": [
        "# Content Based Recommendation"
      ],
      "metadata": {
        "id": "6D_JTFtwjemf"
      }
    },
    {
      "cell_type": "code",
      "source": [
        "# a function to get content-based recommendations based on music features\n",
        "def content_based_recommendations(input_song_name, num_recommendations=5):\n",
        "    if input_song_name not in music_df['Track Name'].values:\n",
        "        print(f\"'{input_song_name}' not found in the dataset. Please enter a valid song name.\")\n",
        "        return\n",
        "\n",
        "    # Get the index of the input song in the music DataFrame\n",
        "    input_song_index = music_df[music_df['Track Name'] == input_song_name].index[0]\n",
        "\n",
        "    # Calculate the similarity scores based on music features (cosine similarity)\n",
        "    similarity_scores = cosine_similarity([music_features_scaled[input_song_index]], music_features_scaled)\n",
        "\n",
        "    # Get the indices of the most similar songs\n",
        "    similar_song_indices = similarity_scores.argsort()[0][::-1][1:num_recommendations + 1]\n",
        "\n",
        "    # Get the names of the most similar songs based on content-based filtering\n",
        "    content_based_recommendations = music_df.iloc[similar_song_indices][['Track Name', 'Artists', 'Album Name', 'Release Date', 'Popularity']]\n",
        "\n",
        "    return content_based_recommendations\n"
      ],
      "metadata": {
        "id": "CQLV8QLArelt"
      },
      "execution_count": null,
      "outputs": []
    },
    {
      "cell_type": "markdown",
      "source": [
        "# Hybrid recommendation"
      ],
      "metadata": {
        "id": "UKouAZP8jF3R"
      }
    },
    {
      "cell_type": "code",
      "source": [
        "def hybrid_recommendations(input_song_name, num_recommendations=5, alpha=0.5):\n",
        "    if input_song_name not in music_df['Track Name'].values:\n",
        "        print(f\"'{input_song_name}' not found in the dataset. Please enter a valid song name.\")\n",
        "        return\n",
        "\n",
        "    # Get content-based recommendations\n",
        "    content_based_rec = content_based_recommendations(input_song_name, num_recommendations)\n",
        "\n",
        "    # Get the popularity score of the input song\n",
        "    popularity_score = music_df.loc[music_df['Track Name'] == input_song_name, 'Popularity'].values[0]\n",
        "\n",
        "    # Calculate the weighted popularity score\n",
        "    weighted_popularity_score = popularity_score * calculate_weighted_popularity(music_df.loc[music_df['Track Name'] == input_song_name, 'Release Date'].values[0])\n",
        "\n",
        "    # Combine content-based and popularity-based recommendations based on weighted popularity\n",
        "    input_song_info = {\n",
        "        'Track Name': input_song_name,\n",
        "        'Artists': music_df.loc[music_df['Track Name'] == input_song_name, 'Artists'].values[0],\n",
        "        'Album Name': music_df.loc[music_df['Track Name'] == input_song_name, 'Album Name'].values[0],\n",
        "        'Release Date': music_df.loc[music_df['Track Name'] == input_song_name, 'Release Date'].values[0],\n",
        "        'Popularity': weighted_popularity_score\n",
        "    }\n",
        "\n",
        "    hybrid_recommendations = pd.concat([content_based_rec, pd.DataFrame([input_song_info])], ignore_index=True)\n",
        "\n",
        "    # Sort the hybrid recommendations based on weighted popularity score\n",
        "    hybrid_recommendations = hybrid_recommendations.sort_values(by='Popularity', ascending=False)\n",
        "\n",
        "    # Remove the input song from the recommendations\n",
        "    hybrid_recommendations = hybrid_recommendations[hybrid_recommendations['Track Name'] != input_song_name]\n",
        "\n",
        "    return hybrid_recommendations\n"
      ],
      "metadata": {
        "id": "GUQoaTj9YdzZ"
      },
      "execution_count": null,
      "outputs": []
    },
    {
      "cell_type": "code",
      "source": [
        "input_song_name = \"Mujhse Mohabbat Ka\"\n",
        "recommendations = hybrid_recommendations(input_song_name, num_recommendations=5)\n",
        "print(f\"Hybrid recommended songs for '{input_song_name}':\")\n",
        "print(recommendations)"
      ],
      "metadata": {
        "colab": {
          "base_uri": "https://localhost:8080/"
        },
        "id": "IjRdvqaDaWtz",
        "outputId": "53454387-e7ea-4fc2-83c6-15c53f3b4d91"
      },
      "execution_count": null,
      "outputs": [
        {
          "output_type": "stream",
          "name": "stdout",
          "text": [
            "Hybrid recommended songs for 'Mujhse Mohabbat Ka':\n",
            "                                      Track Name  \\\n",
            "4                        Ajnabi Mujhko Itna Bata   \n",
            "2  Rafta Rafta Woh Meri Hasti Ka (From \"Zeenat\")   \n",
            "0                       Hangama Hai Kiyon Barbad   \n",
            "3                Yeh Kaun Aa Gayi Dilruba Mehaki   \n",
            "1                           Tune Deewana Banaaya   \n",
            "\n",
            "                                  Artists  \\\n",
            "4  Jatin-Lalit, Asha Bhosle, Udit Narayan   \n",
            "2                            Mehdi Hassan   \n",
            "0                              Ghulam Ali   \n",
            "3                              Ghulam Ali   \n",
            "1                           Abida Parveen   \n",
            "\n",
            "                                          Album Name Release Date  Popularity  \n",
            "4  Pyaar To Hona Hi Tha (Original Motion Picture ...   2000-08-04        61.0  \n",
            "2                             Mehdi Hassan Film Hits   2022-02-03        52.0  \n",
            "0    Dil Mein Ek Leher - Ghulam Ali The Gazal Mastro   1994-01-01        41.0  \n",
            "3                                   Tere Shahar Main   2021-09-22        40.0  \n",
            "1                             Abida Parveen, Vol. 12         1990        37.0  \n"
          ]
        }
      ]
    },
    {
      "cell_type": "markdown",
      "source": [
        "# Save the file"
      ],
      "metadata": {
        "id": "5pVFFXTL9jNU"
      }
    },
    {
      "cell_type": "code",
      "source": [
        "import pickle\n",
        "hybrid_model = hybrid_recommendations\n",
        "file_path = 'hybrid_model.pkl'\n",
        "with open(file_path,'wb') as file:\n",
        "  pickle.dump(hybrid_model, file)"
      ],
      "metadata": {
        "id": "Kttgyp7n7wnf"
      },
      "execution_count": null,
      "outputs": []
    }
  ]
}